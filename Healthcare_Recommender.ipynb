{
  "nbformat": 4,
  "nbformat_minor": 0,
  "metadata": {
    "colab": {
      "provenance": []
    },
    "kernelspec": {
      "name": "python3",
      "display_name": "Python 3"
    },
    "language_info": {
      "name": "python"
    }
  },
  "cells": [
    {
      "cell_type": "markdown",
      "source": [
        "\n",
        "Creating a dataset of patient symptom data, including symptoms, frequency, severity, duration, co-occurrence, and diagnosed health conditions. The dataset is saved to a CSV file named \"symptom_dataset.csv\".\n",
        "\n"
      ],
      "metadata": {
        "id": "XiepvaOYanip"
      }
    },
    {
      "cell_type": "code",
      "source": [
        "import pandas as pd\n",
        "import numpy as np\n",
        "\n",
        "np.random.seed(0)\n",
        "\n",
        "num_symptoms = 10\n",
        "symptom_columns = [f\"Symptom_{i}\" for i in range(1, num_symptoms + 1)]\n",
        "\n",
        "health_conditions = [\"Influenza\", \"Common Cold\", \"Pneumonia\", \"Bronchitis\", \"Asthma\"]\n",
        "\n",
        "data = []\n",
        "for _ in range(100):\n",
        "    symptoms = np.random.randint(0, 2, size=num_symptoms)\n",
        "    frequency = np.random.randint(1, 6)\n",
        "    severity = np.random.randint(1, 6)\n",
        "    duration = np.random.randint(1, 11)\n",
        "    co_occurrence = np.random.randint(0, 2, size=num_symptoms)\n",
        "    health_condition = np.random.choice(health_conditions)\n",
        "\n",
        "    patient_data = {\n",
        "        **{col: sym for col, sym in zip(symptom_columns, symptoms)},\n",
        "        'Frequency': frequency,\n",
        "        'Severity': severity,\n",
        "        'Duration': duration,\n",
        "        **{f\"Co-occurrence_{i}\": co for i, co in enumerate(co_occurrence)},\n",
        "        'Diagnosed_Health_Condition': health_condition\n",
        "    }\n",
        "    data.append(patient_data)\n",
        "\n",
        "df=pd.DataFrame(data)\n",
        "\n",
        "columns_order=['Diagnosed_Health_Condition', 'Frequency', 'Severity', 'Duration'] + symptom_columns + \\\n",
        "                [f\"Co-occurrence_{i}\" for i in range(num_symptoms)]\n",
        "df = df[columns_order]\n",
        "\n",
        "df.to_csv('symptom_dataset.csv', index=False)\n"
      ],
      "metadata": {
        "id": "jXrukHuDvqp7"
      },
      "execution_count": 1,
      "outputs": []
    },
    {
      "cell_type": "markdown",
      "source": [
        "Training a machine learning model to predict diagnosed health conditions based on patient symptom data and prints a classification report to evaluate its performance."
      ],
      "metadata": {
        "id": "uDZ58QCobSYR"
      }
    },
    {
      "cell_type": "code",
      "source": [
        "import pandas as pd\n",
        "from sklearn.model_selection import train_test_split\n",
        "from sklearn.ensemble import RandomForestClassifier\n",
        "from sklearn.metrics import classification_report\n",
        "\n",
        "df = pd.read_csv('symptom_dataset.csv')\n",
        "\n",
        "X = df.drop('Diagnosed_Health_Condition', axis=1)\n",
        "y = df['Diagnosed_Health_Condition']\n",
        "\n",
        "X_train, X_test, y_train, y_test = train_test_split(X, y, test_size=0.2, random_state=42)\n",
        "\n",
        "clf = RandomForestClassifier(n_estimators=100, random_state=42)\n",
        "clf.fit(X_train, y_train)\n",
        "\n",
        "y_pred = clf.predict(X_test)\n",
        "\n",
        "print(\"Classification Report:\")\n",
        "print(classification_report(y_test, y_pred))\n"
      ],
      "metadata": {
        "colab": {
          "base_uri": "https://localhost:8080/"
        },
        "id": "mzmS0VkZwCpP",
        "outputId": "98125730-211a-4e1c-f24f-116922cd0075"
      },
      "execution_count": 10,
      "outputs": [
        {
          "output_type": "stream",
          "name": "stdout",
          "text": [
            "Classification Report:\n",
            "              precision    recall  f1-score   support\n",
            "\n",
            "      Asthma       0.33      0.50      0.40         4\n",
            "  Bronchitis       0.00      0.00      0.00         5\n",
            " Common Cold       0.00      0.00      0.00         2\n",
            "   Influenza       0.00      0.00      0.00         8\n",
            "   Pneumonia       0.17      1.00      0.29         1\n",
            "\n",
            "    accuracy                           0.15        20\n",
            "   macro avg       0.10      0.30      0.14        20\n",
            "weighted avg       0.07      0.15      0.09        20\n",
            "\n"
          ]
        },
        {
          "output_type": "stream",
          "name": "stderr",
          "text": [
            "/usr/local/lib/python3.10/dist-packages/sklearn/metrics/_classification.py:1344: UndefinedMetricWarning: Precision and F-score are ill-defined and being set to 0.0 in labels with no predicted samples. Use `zero_division` parameter to control this behavior.\n",
            "  _warn_prf(average, modifier, msg_start, len(result))\n",
            "/usr/local/lib/python3.10/dist-packages/sklearn/metrics/_classification.py:1344: UndefinedMetricWarning: Precision and F-score are ill-defined and being set to 0.0 in labels with no predicted samples. Use `zero_division` parameter to control this behavior.\n",
            "  _warn_prf(average, modifier, msg_start, len(result))\n",
            "/usr/local/lib/python3.10/dist-packages/sklearn/metrics/_classification.py:1344: UndefinedMetricWarning: Precision and F-score are ill-defined and being set to 0.0 in labels with no predicted samples. Use `zero_division` parameter to control this behavior.\n",
            "  _warn_prf(average, modifier, msg_start, len(result))\n"
          ]
        }
      ]
    },
    {
      "cell_type": "markdown",
      "source": [
        "Generating a dataset of patient symptom descriptions along with their diagnosed health conditions and sentiments. The dataset is saved to a CSV file named \"symptom_description_dataset.csv\"."
      ],
      "metadata": {
        "id": "7oLmmNKMbuHQ"
      }
    },
    {
      "cell_type": "code",
      "source": [
        "import pandas as pd\n",
        "import numpy as np\n",
        "\n",
        "np.random.seed(0)\n",
        "\n",
        "symptom_descriptions = [\n",
        "    \"I have a headache and fever\",\n",
        "    \"My throat feels sore and scratchy\",\n",
        "    \"I'm coughing a lot and feeling short of breath\",\n",
        "    \"I feel tired and achy all over\",\n",
        "    \"I have a runny nose and watery eyes\",\n",
        "    \"My stomach hurts and I feel nauseous\",\n",
        "    \"I have a rash on my skin and it's itchy\",\n",
        "    \"I'm experiencing chest pain and difficulty breathing\",\n",
        "    \"I feel dizzy and lightheaded\",\n",
        "    \"I have joint pain and swelling\"\n",
        "]\n",
        "\n",
        "health_conditions = [\n",
        "    \"Headache, Fever\",\n",
        "    \"Sore Throat\",\n",
        "    \"Cough, Shortness of Breath\",\n",
        "    \"Fatigue, Body Aches\",\n",
        "    \"Runny Nose, Watery Eyes\",\n",
        "    \"Stomach Pain, Nausea\",\n",
        "    \"Skin Rash, Itchiness\",\n",
        "    \"Chest Pain, Difficulty Breathing\",\n",
        "    \"Dizziness, Lightheadedness\",\n",
        "    \"Joint Pain, Swelling\"\n",
        "]\n",
        "\n",
        "sentiments = [\"Negative\", \"Neutral\", \"Negative\", \"Neutral\", \"Neutral\",\n",
        "              \"Negative\", \"Negative\", \"Negative\", \"Negative\", \"Neutral\"]\n",
        "\n",
        "data = []\n",
        "for _ in range(100):\n",
        "    symptom_description = np.random.choice(symptom_descriptions)\n",
        "    health_condition = np.random.choice(health_conditions)\n",
        "    sentiment = np.random.choice(sentiments)\n",
        "\n",
        "    data_entry = {\n",
        "        'Text_Description_of_Symptoms': symptom_description,\n",
        "        'Diagnosed_Health_Condition': health_condition,\n",
        "        'Sentiment': sentiment\n",
        "    }\n",
        "    data.append(data_entry)\n",
        "\n",
        "df = pd.DataFrame(data)\n",
        "\n",
        "df.to_csv('symptom_description_dataset.csv', index=False)\n"
      ],
      "metadata": {
        "id": "WfZUtX77wZ3d"
      },
      "execution_count": 3,
      "outputs": []
    },
    {
      "cell_type": "code",
      "source": [
        "import nltk\n",
        "\n",
        "\n",
        "nltk.download('punkt')\n",
        "nltk.download('stopwords')\n"
      ],
      "metadata": {
        "colab": {
          "base_uri": "https://localhost:8080/"
        },
        "id": "Ugomlwp0dGh1",
        "outputId": "f2597d4b-6576-4a0f-879e-38008c5ea2cd"
      },
      "execution_count": 4,
      "outputs": [
        {
          "output_type": "stream",
          "name": "stderr",
          "text": [
            "[nltk_data] Downloading package punkt to /root/nltk_data...\n",
            "[nltk_data]   Unzipping tokenizers/punkt.zip.\n",
            "[nltk_data] Downloading package stopwords to /root/nltk_data...\n",
            "[nltk_data]   Unzipping corpora/stopwords.zip.\n"
          ]
        },
        {
          "output_type": "execute_result",
          "data": {
            "text/plain": [
              "True"
            ]
          },
          "metadata": {},
          "execution_count": 4
        }
      ]
    },
    {
      "cell_type": "markdown",
      "source": [
        "Preprocessing symptom descriptions, analyzing sentiment, training a classifier to predict health conditions, and evaluating its performance."
      ],
      "metadata": {
        "id": "fTNXCZpLcJN_"
      }
    },
    {
      "cell_type": "code",
      "source": [
        "import pandas as pd\n",
        "import numpy as np\n",
        "import nltk\n",
        "from nltk.corpus import stopwords\n",
        "from nltk.stem import PorterStemmer\n",
        "from sklearn.model_selection import train_test_split\n",
        "from sklearn.feature_extraction.text import CountVectorizer\n",
        "from sklearn.naive_bayes import MultinomialNB\n",
        "from sklearn.metrics import classification_report\n",
        "\n",
        "\n",
        "df = pd.read_csv('symptom_description_dataset.csv')\n",
        "\n",
        "stop_words = set(stopwords.words('english'))\n",
        "stemmer = PorterStemmer()\n",
        "\n",
        "def preprocess_text(text):\n",
        "\n",
        "    tokens = nltk.word_tokenize(text.lower())\n",
        "\n",
        "    tokens = [stemmer.stem(token) for token in tokens if token not in stop_words]\n",
        "\n",
        "    return ' '.join(tokens)\n",
        "\n",
        "\n",
        "df['Processed_Description'] = df['Text_Description_of_Symptoms'].apply(preprocess_text)\n",
        "\n",
        "def analyze_sentiment(text):\n",
        "\n",
        "    if 'pain' in text or 'hurt' in text or 'ache' in text:\n",
        "        return 'Negative'\n",
        "    else:\n",
        "        return 'Neutral'\n",
        "\n",
        "\n",
        "df['Sentiment_Analysis'] = df['Text_Description_of_Symptoms'].apply(analyze_sentiment)\n",
        "\n",
        "\n",
        "X_train, X_test, y_train, y_test = train_test_split(df['Processed_Description'], df['Diagnosed_Health_Condition'], test_size=0.2, random_state=42)\n",
        "\n",
        "vectorizer = CountVectorizer()\n",
        "X_train_vec = vectorizer.fit_transform(X_train)\n",
        "X_test_vec = vectorizer.transform(X_test)\n",
        "\n",
        "clf = MultinomialNB()\n",
        "clf.fit(X_train_vec, y_train)\n",
        "\n",
        "y_pred = clf.predict(X_test_vec)\n",
        "\n",
        "print(\"Classification Report:\")\n",
        "print(classification_report(y_test, y_pred))\n"
      ],
      "metadata": {
        "colab": {
          "base_uri": "https://localhost:8080/"
        },
        "id": "PodPrub8cxB_",
        "outputId": "51e476fa-3865-41b9-a88c-6f2c09017370"
      },
      "execution_count": 5,
      "outputs": [
        {
          "output_type": "stream",
          "name": "stdout",
          "text": [
            "Classification Report:\n",
            "                                  precision    recall  f1-score   support\n",
            "\n",
            "Chest Pain, Difficulty Breathing       0.00      0.00      0.00         1\n",
            "      Cough, Shortness of Breath       0.00      0.00      0.00         2\n",
            "      Dizziness, Lightheadedness       1.00      0.67      0.80         3\n",
            "             Fatigue, Body Aches       0.00      0.00      0.00         2\n",
            "                 Headache, Fever       0.50      0.33      0.40         3\n",
            "            Joint Pain, Swelling       0.20      0.25      0.22         4\n",
            "         Runny Nose, Watery Eyes       0.00      0.00      0.00         1\n",
            "            Skin Rash, Itchiness       0.00      0.00      0.00         1\n",
            "                     Sore Throat       0.00      0.00      0.00         2\n",
            "            Stomach Pain, Nausea       0.00      0.00      0.00         1\n",
            "\n",
            "                        accuracy                           0.20        20\n",
            "                       macro avg       0.17      0.12      0.14        20\n",
            "                    weighted avg       0.27      0.20      0.22        20\n",
            "\n"
          ]
        },
        {
          "output_type": "stream",
          "name": "stderr",
          "text": [
            "/usr/local/lib/python3.10/dist-packages/sklearn/metrics/_classification.py:1344: UndefinedMetricWarning: Precision and F-score are ill-defined and being set to 0.0 in labels with no predicted samples. Use `zero_division` parameter to control this behavior.\n",
            "  _warn_prf(average, modifier, msg_start, len(result))\n",
            "/usr/local/lib/python3.10/dist-packages/sklearn/metrics/_classification.py:1344: UndefinedMetricWarning: Precision and F-score are ill-defined and being set to 0.0 in labels with no predicted samples. Use `zero_division` parameter to control this behavior.\n",
            "  _warn_prf(average, modifier, msg_start, len(result))\n",
            "/usr/local/lib/python3.10/dist-packages/sklearn/metrics/_classification.py:1344: UndefinedMetricWarning: Precision and F-score are ill-defined and being set to 0.0 in labels with no predicted samples. Use `zero_division` parameter to control this behavior.\n",
            "  _warn_prf(average, modifier, msg_start, len(result))\n"
          ]
        }
      ]
    },
    {
      "cell_type": "markdown",
      "source": [
        "Performing K-means clustering on symptom descriptions using TF-IDF vectorization and PCA for dimensionality reduction. Futhermore, visualizing the clustering results in a 2D scatter plot."
      ],
      "metadata": {
        "id": "XLE8_V2ncf0E"
      }
    },
    {
      "cell_type": "code",
      "source": [
        "import pandas as pd\n",
        "from sklearn.feature_extraction.text import TfidfVectorizer\n",
        "from sklearn.cluster import KMeans\n",
        "from sklearn.decomposition import PCA\n",
        "import matplotlib.pyplot as plt\n",
        "\n",
        "\n",
        "df = pd.read_csv('symptom_description_dataset.csv')\n",
        "\n",
        "\n",
        "vectorizer = TfidfVectorizer(stop_words='english')\n",
        "X = vectorizer.fit_transform(df['Text_Description_of_Symptoms'])\n",
        "\n",
        "\n",
        "pca = PCA(n_components=2)\n",
        "X_pca = pca.fit_transform(X.toarray())\n",
        "\n",
        "df['PCA Component 1'] = X_pca[:, 0]\n",
        "df['PCA Component 2'] = X_pca[:, 1]\n",
        "\n",
        "\n",
        "kmeans = KMeans(n_clusters=3, random_state=42)\n",
        "kmeans.fit(X_pca)\n",
        "\n",
        "\n",
        "df['Cluster'] = kmeans.labels_\n",
        "\n",
        "\n",
        "plt.figure(figsize=(10, 6))\n",
        "for cluster in sorted(df['Cluster'].unique()):\n",
        "    plt.scatter(df.loc[df['Cluster'] == cluster, 'PCA Component 1'],\n",
        "                df.loc[df['Cluster'] == cluster, 'PCA Component 2'],\n",
        "                label=f'Cluster {cluster}')\n",
        "plt.xlabel('PCA Component 1')\n",
        "plt.ylabel('PCA Component 2')\n",
        "plt.title('K-means Clustering of Symptoms')\n",
        "plt.legend()\n",
        "plt.show()\n"
      ],
      "metadata": {
        "colab": {
          "base_uri": "https://localhost:8080/",
          "height": 619
        },
        "id": "BxBP3dDYdL5C",
        "outputId": "e7a8ed29-e79f-4113-878c-ebaee54dd39b"
      },
      "execution_count": 6,
      "outputs": [
        {
          "output_type": "stream",
          "name": "stderr",
          "text": [
            "/usr/local/lib/python3.10/dist-packages/sklearn/cluster/_kmeans.py:870: FutureWarning: The default value of `n_init` will change from 10 to 'auto' in 1.4. Set the value of `n_init` explicitly to suppress the warning\n",
            "  warnings.warn(\n"
          ]
        },
        {
          "output_type": "display_data",
          "data": {
            "text/plain": [
              "<Figure size 1000x600 with 1 Axes>"
            ],
            "image/png": "[encoded data removed]"
          },
          "metadata": {}
        }
      ]
    },
    {
      "cell_type": "markdown",
      "source": [
        " Generating synthetic data for user-provider interactions in a healthcare system and saving it to a CSV file named \"interaction_dataset\"."
      ],
      "metadata": {
        "id": "fYPeJIcmcyYF"
      }
    },
    {
      "cell_type": "code",
      "source": [
        "import pandas as pd\n",
        "import numpy as np\n",
        "from datetime import datetime, timedelta\n",
        "\n",
        "np.random.seed(0)\n",
        "\n",
        "\n",
        "user_ids = ['User_' + str(i).zfill(3) for i in range(1, 11)]\n",
        "\n",
        "\n",
        "provider_ids = ['Provider_' + str(i).zfill(3) for i in range(1, 11)]\n",
        "\n",
        "\n",
        "interaction_types = ['Appointment', 'Consultation', 'Follow-up']\n",
        "\n",
        "\n",
        "specialties = ['Cardiology', 'Pediatrics', 'Orthopedics', 'Dermatology', 'Ophthalmology',\n",
        "               'Gynecology', 'Neurology', 'ENT', 'Dentistry', 'Psychiatry']\n",
        "\n",
        "locations = ['New York', 'Los Angeles', 'Chicago', 'Houston', 'Phoenix',\n",
        "             'Philadelphia', 'San Antonio', 'San Diego', 'Dallas', 'San Jose']\n",
        "\n",
        "\n",
        "data = []\n",
        "for _ in range(100):\n",
        "    user_id = np.random.choice(user_ids)\n",
        "    provider_id = np.random.choice(provider_ids)\n",
        "    interaction_type = np.random.choice(interaction_types)\n",
        "    timestamp = datetime(2023, 5, 1) + timedelta(days=np.random.randint(0, 30), hours=np.random.randint(0, 24))\n",
        "    specialty = np.random.choice(specialties)\n",
        "    location = np.random.choice(locations)\n",
        "    ratings = round(np.random.uniform(3.0, 5.0), 1)\n",
        "    years_of_experience = np.random.randint(1, 30)\n",
        "\n",
        "\n",
        "    interaction_entry = {\n",
        "        'User ID': user_id,\n",
        "        'Provider ID': provider_id,\n",
        "        'Interaction Type': interaction_type,\n",
        "        'Timestamp': timestamp,\n",
        "        'Specialty': specialty,\n",
        "        'Location': location,\n",
        "        'Ratings': ratings,\n",
        "        'Years of Experience': years_of_experience\n",
        "    }\n",
        "    data.append(interaction_entry)\n",
        "\n",
        "\n",
        "df = pd.DataFrame(data)\n",
        "\n",
        "\n",
        "df.to_csv('interaction_dataset.csv', index=False)\n"
      ],
      "metadata": {
        "id": "FXtGJd2oeqP5"
      },
      "execution_count": 7,
      "outputs": []
    },
    {
      "cell_type": "markdown",
      "source": [
        "Recommending healthcare providers to users based on their preferences using collaborative filtering. And preprocessing the dataset, calculating similarity between user preferences and provider attributes, and generating top recommendations for a specific user."
      ],
      "metadata": {
        "id": "ER26JO9XdUpl"
      }
    },
    {
      "cell_type": "code",
      "source": [
        "import pandas as pd\n",
        "from sklearn.metrics.pairwise import cosine_similarity\n",
        "from sklearn.model_selection import train_test_split\n",
        "from sklearn.preprocessing import LabelEncoder, StandardScaler\n",
        "import numpy as np\n",
        "\n",
        "df = pd.read_csv('interaction_dataset.csv')\n",
        "df.fillna(0, inplace=True)\n",
        "\n",
        "label_encoder_specialty = LabelEncoder()\n",
        "label_encoder_location = LabelEncoder()\n",
        "\n",
        "label_encoder_specialty.fit(df['Specialty'])\n",
        "label_encoder_location.fit(df['Location'])\n",
        "\n",
        "df['Specialty'] = label_encoder_specialty.transform(df['Specialty'])\n",
        "df['Location'] = label_encoder_location.transform(df['Location'])\n",
        "\n",
        "scaler = StandardScaler()\n",
        "df['Ratings'] = scaler.fit_transform(df['Ratings'].values.reshape(-1, 1))\n",
        "\n",
        "X = df[['Specialty', 'Location', 'Ratings']]\n",
        "y = df['Provider ID']\n",
        "X_train, X_test, y_train, y_test = train_test_split(X, y, test_size=0.2, random_state=42)\n",
        "\n",
        "def calculate_similarity(user_preferences, provider_attributes):\n",
        "    similarity_scores = cosine_similarity([user_preferences], provider_attributes)\n",
        "    return similarity_scores[0]\n",
        "\n",
        "def generate_recommendations(user_preferences, provider_attributes, top_n=5):\n",
        "    similarity_scores = calculate_similarity(user_preferences, provider_attributes)\n",
        "    top_indices = similarity_scores.argsort()[-top_n:][::-1]\n",
        "    recommendations = df.iloc[top_indices]\n",
        "    return recommendations\n",
        "\n",
        "user_preferences = {\n",
        "    'Specialty': label_encoder_specialty.transform(['Cardiology'])[0],\n",
        "    'Location': label_encoder_location.transform(['New York'])[0],\n",
        "    'Ratings': scaler.transform([[4.5]])[0][0]\n",
        "}\n",
        "\n",
        "user_preferences_array = np.array([user_preferences['Specialty'], user_preferences['Location'], user_preferences['Ratings']])\n",
        "\n",
        "provider_attributes = X_train.values\n",
        "\n",
        "recommendations = generate_recommendations(user_preferences_array, provider_attributes)\n",
        "\n",
        "print(\"Recommendations for the user:\")\n",
        "print(recommendations)\n"
      ],
      "metadata": {
        "colab": {
          "base_uri": "https://localhost:8080/"
        },
        "id": "rbWM0cnAiSNE",
        "outputId": "7d1f3815-64a5-4edc-a936-64f922517647"
      },
      "execution_count": 8,
      "outputs": [
        {
          "output_type": "stream",
          "name": "stdout",
          "text": [
            "Recommendations for the user:\n",
            "     User ID   Provider ID Interaction Type            Timestamp  Specialty  \\\n",
            "21  User_009  Provider_009        Follow-up  2023-05-16 03:00:00          5   \n",
            "15  User_004  Provider_009      Appointment  2023-05-09 13:00:00          1   \n",
            "6   User_009  Provider_005     Consultation  2023-05-16 04:00:00          9   \n",
            "44  User_008  Provider_010     Consultation  2023-05-10 22:00:00          0   \n",
            "53  User_004  Provider_003      Appointment  2023-05-20 14:00:00          0   \n",
            "\n",
            "    Location   Ratings  Years of Experience  \n",
            "21         2  1.452475                    6  \n",
            "15         0 -0.787403                    3  \n",
            "6          1  1.452475                    8  \n",
            "44         2 -1.132000                   18  \n",
            "53         2 -1.132000                   13  \n"
          ]
        }
      ]
    },
    {
      "cell_type": "markdown",
      "source": [
        "Inversely transforming the scaled ratings of recommended healthcare providers back to their original values and displaying the recommendations for the user."
      ],
      "metadata": {
        "id": "fTPu33x2dnxX"
      }
    },
    {
      "cell_type": "code",
      "source": [
        "recommendations['Ratings'] = scaler.inverse_transform(recommendations['Ratings'].values.reshape(-1, 1))\n",
        "print(\"Recommendations for the user:\")\n",
        "print(recommendations)\n"
      ],
      "metadata": {
        "colab": {
          "base_uri": "https://localhost:8080/"
        },
        "id": "PDQSedeZtUTH",
        "outputId": "2e8ed8c5-4f8a-4f96-963d-857585b6bf74"
      },
      "execution_count": 9,
      "outputs": [
        {
          "output_type": "stream",
          "name": "stdout",
          "text": [
            "Recommendations for the user:\n",
            "     User ID   Provider ID Interaction Type            Timestamp  Specialty  \\\n",
            "21  User_009  Provider_009        Follow-up  2023-05-16 03:00:00          5   \n",
            "15  User_004  Provider_009      Appointment  2023-05-09 13:00:00          1   \n",
            "6   User_009  Provider_005     Consultation  2023-05-16 04:00:00          9   \n",
            "44  User_008  Provider_010     Consultation  2023-05-10 22:00:00          0   \n",
            "53  User_004  Provider_003      Appointment  2023-05-20 14:00:00          0   \n",
            "\n",
            "    Location  Ratings  Years of Experience  \n",
            "21         2      4.8                    6  \n",
            "15         0      3.5                    3  \n",
            "6          1      4.8                    8  \n",
            "44         2      3.3                   18  \n",
            "53         2      3.3                   13  \n"
          ]
        },
        {
          "output_type": "stream",
          "name": "stderr",
          "text": [
            "<ipython-input-9-5c2c166a44f1>:1: SettingWithCopyWarning: \n",
            "A value is trying to be set on a copy of a slice from a DataFrame.\n",
            "Try using .loc[row_indexer,col_indexer] = value instead\n",
            "\n",
            "See the caveats in the documentation: https://pandas.pydata.org/pandas-docs/stable/user_guide/indexing.html#returning-a-view-versus-a-copy\n",
            "  recommendations['Ratings'] = scaler.inverse_transform(recommendations['Ratings'].values.reshape(-1, 1))\n"
          ]
        }
      ]
    }
  ]
}